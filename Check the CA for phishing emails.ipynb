{
 "cells": [
  {
   "cell_type": "code",
   "execution_count": 1,
   "metadata": {},
   "outputs": [
    {
     "ename": "gaierror",
     "evalue": "[Errno 11001] getaddrinfo failed",
     "output_type": "error",
     "traceback": [
      "\u001b[1;31m---------------------------------------------------------------------------\u001b[0m",
      "\u001b[1;31mgaierror\u001b[0m                                  Traceback (most recent call last)",
      "\u001b[1;32mc:\\Users\\user\\OneDrive - SUPCOM\\Bureau\\P2M\\video\\Check the CA for phishing emails.ipynb Cell 1\u001b[0m in \u001b[0;36m<cell line: 7>\u001b[1;34m()\u001b[0m\n\u001b[0;32m      <a href='vscode-notebook-cell:/c%3A/Users/user/OneDrive%20-%20SUPCOM/Bureau/P2M/video/Check%20the%20CA%20for%20phishing%20emails.ipynb#W1sZmlsZQ%3D%3D?line=4'>5</a>\u001b[0m context \u001b[39m=\u001b[39m ssl\u001b[39m.\u001b[39mcreate_default_context()\n\u001b[0;32m      <a href='vscode-notebook-cell:/c%3A/Users/user/OneDrive%20-%20SUPCOM/Bureau/P2M/video/Check%20the%20CA%20for%20phishing%20emails.ipynb#W1sZmlsZQ%3D%3D?line=5'>6</a>\u001b[0m conn \u001b[39m=\u001b[39m context\u001b[39m.\u001b[39mwrap_socket(socket\u001b[39m.\u001b[39msocket(), server_hostname\u001b[39m=\u001b[39mhostname)\n\u001b[1;32m----> <a href='vscode-notebook-cell:/c%3A/Users/user/OneDrive%20-%20SUPCOM/Bureau/P2M/video/Check%20the%20CA%20for%20phishing%20emails.ipynb#W1sZmlsZQ%3D%3D?line=6'>7</a>\u001b[0m conn\u001b[39m.\u001b[39;49mconnect((hostname, \u001b[39m443\u001b[39;49m))\n\u001b[0;32m      <a href='vscode-notebook-cell:/c%3A/Users/user/OneDrive%20-%20SUPCOM/Bureau/P2M/video/Check%20the%20CA%20for%20phishing%20emails.ipynb#W1sZmlsZQ%3D%3D?line=7'>8</a>\u001b[0m cert \u001b[39m=\u001b[39m conn\u001b[39m.\u001b[39mgetpeercert()\n\u001b[0;32m     <a href='vscode-notebook-cell:/c%3A/Users/user/OneDrive%20-%20SUPCOM/Bureau/P2M/video/Check%20the%20CA%20for%20phishing%20emails.ipynb#W1sZmlsZQ%3D%3D?line=10'>11</a>\u001b[0m \u001b[39mfor\u001b[39;00m sub \u001b[39min\u001b[39;00m cert[\u001b[39m'\u001b[39m\u001b[39msubject\u001b[39m\u001b[39m'\u001b[39m]:\n",
      "File \u001b[1;32mc:\\Users\\user\\anaconda3\\lib\\ssl.py:1342\u001b[0m, in \u001b[0;36mSSLSocket.connect\u001b[1;34m(self, addr)\u001b[0m\n\u001b[0;32m   1339\u001b[0m \u001b[39mdef\u001b[39;00m \u001b[39mconnect\u001b[39m(\u001b[39mself\u001b[39m, addr):\n\u001b[0;32m   1340\u001b[0m     \u001b[39m\"\"\"Connects to remote ADDR, and then wraps the connection in\u001b[39;00m\n\u001b[0;32m   1341\u001b[0m \u001b[39m    an SSL channel.\"\"\"\u001b[39;00m\n\u001b[1;32m-> 1342\u001b[0m     \u001b[39mself\u001b[39;49m\u001b[39m.\u001b[39;49m_real_connect(addr, \u001b[39mFalse\u001b[39;49;00m)\n",
      "File \u001b[1;32mc:\\Users\\user\\anaconda3\\lib\\ssl.py:1329\u001b[0m, in \u001b[0;36mSSLSocket._real_connect\u001b[1;34m(self, addr, connect_ex)\u001b[0m\n\u001b[0;32m   1327\u001b[0m \u001b[39melse\u001b[39;00m:\n\u001b[0;32m   1328\u001b[0m     rc \u001b[39m=\u001b[39m \u001b[39mNone\u001b[39;00m\n\u001b[1;32m-> 1329\u001b[0m     \u001b[39msuper\u001b[39;49m()\u001b[39m.\u001b[39;49mconnect(addr)\n\u001b[0;32m   1330\u001b[0m \u001b[39mif\u001b[39;00m \u001b[39mnot\u001b[39;00m rc:\n\u001b[0;32m   1331\u001b[0m     \u001b[39mself\u001b[39m\u001b[39m.\u001b[39m_connected \u001b[39m=\u001b[39m \u001b[39mTrue\u001b[39;00m\n",
      "\u001b[1;31mgaierror\u001b[0m: [Errno 11001] getaddrinfo failed"
     ]
    }
   ],
   "source": [
    "import socket\n",
    "import ssl\n",
    "\n",
    "hostname=input(\"write the hostname\")\n",
    "context = ssl.create_default_context()\n",
    "conn = context.wrap_socket(socket.socket(), server_hostname=hostname)\n",
    "conn.connect((hostname, 443))\n",
    "cert = conn.getpeercert()\n",
    "\n",
    "\n",
    "for sub in cert['subject']:\n",
    "    if sub[0][0] == 'commonName':\n",
    "        common_name = sub[0][1]\n",
    "        if common_name != hostname:\n",
    "            print(\"Certificate common name does not match website hostname\")\n",
    "        else:\n",
    "            print(\"Certificate common name matches website hostname\")\n",
    "\n",
    "issuer = cert['issuer'][1][0][1]\n",
    "if issuer in ['Let\\'s Encrypt', 'DigiCert', 'GlobalSign', 'Comodo', 'Symantec']:\n",
    "    print(\"Certificate issuer is a trusted CA\")\n",
    "else:\n",
    "    print(\"Certificate issuer is not a trusted CA\")\n"
   ]
  },
  {
   "cell_type": "code",
   "execution_count": null,
   "metadata": {},
   "outputs": [],
   "source": []
  }
 ],
 "metadata": {
  "kernelspec": {
   "display_name": "base",
   "language": "python",
   "name": "python3"
  },
  "language_info": {
   "codemirror_mode": {
    "name": "ipython",
    "version": 3
   },
   "file_extension": ".py",
   "mimetype": "text/x-python",
   "name": "python",
   "nbconvert_exporter": "python",
   "pygments_lexer": "ipython3",
   "version": "3.9.12"
  },
  "orig_nbformat": 4
 },
 "nbformat": 4,
 "nbformat_minor": 2
}

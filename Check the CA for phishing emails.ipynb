{
 "cells": [
  {
   "cell_type": "code",
   "execution_count": 1,
   "metadata": {},
   "outputs": [
    {
     "name": "stdout",
     "output_type": "stream",
     "text": [
      "Certificate common name matches website hostname\n",
      "Certificate issuer is not a trusted CA\n"
     ]
    }
   ],
   "source": [
    "import socket\n",
    "import ssl\n",
    "\n",
    "hostname=input(\"write the hostname\")\n",
    "context = ssl.create_default_context()\n",
    "conn = context.wrap_socket(socket.socket(), server_hostname=hostname)\n",
    "conn.connect((hostname, 443))\n",
    "cert = conn.getpeercert()\n",
    "\n",
    "\n",
    "for sub in cert['subject']:\n",
    "    if sub[0][0] == 'commonName':\n",
    "        common_name = sub[0][1]\n",
    "        if common_name != hostname:\n",
    "            print(\"Certificate common name does not match website hostname\")\n",
    "        else:\n",
    "            print(\"Certificate common name matches website hostname\")\n",
    "\n",
    "issuer = cert['issuer'][1][0][1]\n",
    "if issuer in ['Let\\'s Encrypt', 'DigiCert', 'GlobalSign', 'Comodo', 'Symantec']:\n",
    "    print(\"Certificate issuer is a trusted CA\")\n",
    "else:\n",
    "    print(\"Certificate issuer is not a trusted CA\")\n"
   ]
  },
  {
   "cell_type": "code",
   "execution_count": null,
   "metadata": {},
   "outputs": [],
   "source": []
  }
 ],
 "metadata": {
  "kernelspec": {
   "display_name": "base",
   "language": "python",
   "name": "python3"
  },
  "language_info": {
   "codemirror_mode": {
    "name": "ipython",
    "version": 3
   },
   "file_extension": ".py",
   "mimetype": "text/x-python",
   "name": "python",
   "nbconvert_exporter": "python",
   "pygments_lexer": "ipython3",
   "version": "3.9.12"
  },
  "orig_nbformat": 4
 },
 "nbformat": 4,
 "nbformat_minor": 2
}
